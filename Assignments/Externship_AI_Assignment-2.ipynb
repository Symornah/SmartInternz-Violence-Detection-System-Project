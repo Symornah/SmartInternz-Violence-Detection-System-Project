{
 "cells": [
  {
   "cell_type": "markdown",
   "id": "91eae9d2",
   "metadata": {},
   "source": [
    "# Rohan Pawar 20BAI1201"
   ]
  },
  {
   "cell_type": "code",
   "execution_count": 1,
   "id": "9b0284f0",
   "metadata": {},
   "outputs": [],
   "source": [
    "import numpy as np\n",
    "import pandas as pd\n",
    "import matplotlib.pyplot as plt\n",
    "import seaborn as sns"
   ]
  },
  {
   "cell_type": "markdown",
   "id": "1929dc54",
   "metadata": {},
   "source": [
    "# Task 1- Read Data and Data Preprocessing"
   ]
  },
  {
   "cell_type": "code",
   "execution_count": 2,
   "id": "ea047dfd",
   "metadata": {},
   "outputs": [
    {
     "data": {
      "text/html": [
       "<div>\n",
       "<style scoped>\n",
       "    .dataframe tbody tr th:only-of-type {\n",
       "        vertical-align: middle;\n",
       "    }\n",
       "\n",
       "    .dataframe tbody tr th {\n",
       "        vertical-align: top;\n",
       "    }\n",
       "\n",
       "    .dataframe thead th {\n",
       "        text-align: right;\n",
       "    }\n",
       "</style>\n",
       "<table border=\"1\" class=\"dataframe\">\n",
       "  <thead>\n",
       "    <tr style=\"text-align: right;\">\n",
       "      <th></th>\n",
       "      <th>Age</th>\n",
       "      <th>Sex</th>\n",
       "      <th>BP</th>\n",
       "      <th>Cholesterol</th>\n",
       "      <th>Na_to_K</th>\n",
       "      <th>Drug</th>\n",
       "    </tr>\n",
       "  </thead>\n",
       "  <tbody>\n",
       "    <tr>\n",
       "      <th>0</th>\n",
       "      <td>23</td>\n",
       "      <td>F</td>\n",
       "      <td>HIGH</td>\n",
       "      <td>HIGH</td>\n",
       "      <td>25.355</td>\n",
       "      <td>DrugY</td>\n",
       "    </tr>\n",
       "    <tr>\n",
       "      <th>1</th>\n",
       "      <td>47</td>\n",
       "      <td>M</td>\n",
       "      <td>LOW</td>\n",
       "      <td>HIGH</td>\n",
       "      <td>13.093</td>\n",
       "      <td>drugC</td>\n",
       "    </tr>\n",
       "    <tr>\n",
       "      <th>2</th>\n",
       "      <td>47</td>\n",
       "      <td>M</td>\n",
       "      <td>LOW</td>\n",
       "      <td>HIGH</td>\n",
       "      <td>10.114</td>\n",
       "      <td>drugC</td>\n",
       "    </tr>\n",
       "    <tr>\n",
       "      <th>3</th>\n",
       "      <td>28</td>\n",
       "      <td>F</td>\n",
       "      <td>NORMAL</td>\n",
       "      <td>HIGH</td>\n",
       "      <td>7.798</td>\n",
       "      <td>drugX</td>\n",
       "    </tr>\n",
       "    <tr>\n",
       "      <th>4</th>\n",
       "      <td>61</td>\n",
       "      <td>F</td>\n",
       "      <td>LOW</td>\n",
       "      <td>HIGH</td>\n",
       "      <td>18.043</td>\n",
       "      <td>DrugY</td>\n",
       "    </tr>\n",
       "    <tr>\n",
       "      <th>...</th>\n",
       "      <td>...</td>\n",
       "      <td>...</td>\n",
       "      <td>...</td>\n",
       "      <td>...</td>\n",
       "      <td>...</td>\n",
       "      <td>...</td>\n",
       "    </tr>\n",
       "    <tr>\n",
       "      <th>195</th>\n",
       "      <td>56</td>\n",
       "      <td>F</td>\n",
       "      <td>LOW</td>\n",
       "      <td>HIGH</td>\n",
       "      <td>11.567</td>\n",
       "      <td>drugC</td>\n",
       "    </tr>\n",
       "    <tr>\n",
       "      <th>196</th>\n",
       "      <td>16</td>\n",
       "      <td>M</td>\n",
       "      <td>LOW</td>\n",
       "      <td>HIGH</td>\n",
       "      <td>12.006</td>\n",
       "      <td>drugC</td>\n",
       "    </tr>\n",
       "    <tr>\n",
       "      <th>197</th>\n",
       "      <td>52</td>\n",
       "      <td>M</td>\n",
       "      <td>NORMAL</td>\n",
       "      <td>HIGH</td>\n",
       "      <td>9.894</td>\n",
       "      <td>drugX</td>\n",
       "    </tr>\n",
       "    <tr>\n",
       "      <th>198</th>\n",
       "      <td>23</td>\n",
       "      <td>M</td>\n",
       "      <td>NORMAL</td>\n",
       "      <td>NORMAL</td>\n",
       "      <td>14.020</td>\n",
       "      <td>drugX</td>\n",
       "    </tr>\n",
       "    <tr>\n",
       "      <th>199</th>\n",
       "      <td>40</td>\n",
       "      <td>F</td>\n",
       "      <td>LOW</td>\n",
       "      <td>NORMAL</td>\n",
       "      <td>11.349</td>\n",
       "      <td>drugX</td>\n",
       "    </tr>\n",
       "  </tbody>\n",
       "</table>\n",
       "<p>200 rows × 6 columns</p>\n",
       "</div>"
      ],
      "text/plain": [
       "     Age Sex      BP Cholesterol  Na_to_K   Drug\n",
       "0     23   F    HIGH        HIGH   25.355  DrugY\n",
       "1     47   M     LOW        HIGH   13.093  drugC\n",
       "2     47   M     LOW        HIGH   10.114  drugC\n",
       "3     28   F  NORMAL        HIGH    7.798  drugX\n",
       "4     61   F     LOW        HIGH   18.043  DrugY\n",
       "..   ...  ..     ...         ...      ...    ...\n",
       "195   56   F     LOW        HIGH   11.567  drugC\n",
       "196   16   M     LOW        HIGH   12.006  drugC\n",
       "197   52   M  NORMAL        HIGH    9.894  drugX\n",
       "198   23   M  NORMAL      NORMAL   14.020  drugX\n",
       "199   40   F     LOW      NORMAL   11.349  drugX\n",
       "\n",
       "[200 rows x 6 columns]"
      ]
     },
     "execution_count": 2,
     "metadata": {},
     "output_type": "execute_result"
    }
   ],
   "source": [
    "df= pd.read_csv('drug200.csv')\n",
    "df"
   ]
  },
  {
   "cell_type": "code",
   "execution_count": 3,
   "id": "995dd692",
   "metadata": {},
   "outputs": [
    {
     "data": {
      "text/html": [
       "<div>\n",
       "<style scoped>\n",
       "    .dataframe tbody tr th:only-of-type {\n",
       "        vertical-align: middle;\n",
       "    }\n",
       "\n",
       "    .dataframe tbody tr th {\n",
       "        vertical-align: top;\n",
       "    }\n",
       "\n",
       "    .dataframe thead th {\n",
       "        text-align: right;\n",
       "    }\n",
       "</style>\n",
       "<table border=\"1\" class=\"dataframe\">\n",
       "  <thead>\n",
       "    <tr style=\"text-align: right;\">\n",
       "      <th></th>\n",
       "      <th>Age</th>\n",
       "      <th>Sex</th>\n",
       "      <th>BP</th>\n",
       "      <th>Cholesterol</th>\n",
       "      <th>Na_to_K</th>\n",
       "      <th>Drug</th>\n",
       "    </tr>\n",
       "  </thead>\n",
       "  <tbody>\n",
       "    <tr>\n",
       "      <th>0</th>\n",
       "      <td>23</td>\n",
       "      <td>F</td>\n",
       "      <td>HIGH</td>\n",
       "      <td>HIGH</td>\n",
       "      <td>25.355</td>\n",
       "      <td>DrugY</td>\n",
       "    </tr>\n",
       "    <tr>\n",
       "      <th>1</th>\n",
       "      <td>47</td>\n",
       "      <td>M</td>\n",
       "      <td>LOW</td>\n",
       "      <td>HIGH</td>\n",
       "      <td>13.093</td>\n",
       "      <td>drugC</td>\n",
       "    </tr>\n",
       "    <tr>\n",
       "      <th>2</th>\n",
       "      <td>47</td>\n",
       "      <td>M</td>\n",
       "      <td>LOW</td>\n",
       "      <td>HIGH</td>\n",
       "      <td>10.114</td>\n",
       "      <td>drugC</td>\n",
       "    </tr>\n",
       "    <tr>\n",
       "      <th>3</th>\n",
       "      <td>28</td>\n",
       "      <td>F</td>\n",
       "      <td>NORMAL</td>\n",
       "      <td>HIGH</td>\n",
       "      <td>7.798</td>\n",
       "      <td>drugX</td>\n",
       "    </tr>\n",
       "    <tr>\n",
       "      <th>4</th>\n",
       "      <td>61</td>\n",
       "      <td>F</td>\n",
       "      <td>LOW</td>\n",
       "      <td>HIGH</td>\n",
       "      <td>18.043</td>\n",
       "      <td>DrugY</td>\n",
       "    </tr>\n",
       "  </tbody>\n",
       "</table>\n",
       "</div>"
      ],
      "text/plain": [
       "   Age Sex      BP Cholesterol  Na_to_K   Drug\n",
       "0   23   F    HIGH        HIGH   25.355  DrugY\n",
       "1   47   M     LOW        HIGH   13.093  drugC\n",
       "2   47   M     LOW        HIGH   10.114  drugC\n",
       "3   28   F  NORMAL        HIGH    7.798  drugX\n",
       "4   61   F     LOW        HIGH   18.043  DrugY"
      ]
     },
     "execution_count": 3,
     "metadata": {},
     "output_type": "execute_result"
    }
   ],
   "source": [
    "df.head()"
   ]
  },
  {
   "cell_type": "code",
   "execution_count": 4,
   "id": "ce2bfea6",
   "metadata": {},
   "outputs": [
    {
     "data": {
      "text/html": [
       "<div>\n",
       "<style scoped>\n",
       "    .dataframe tbody tr th:only-of-type {\n",
       "        vertical-align: middle;\n",
       "    }\n",
       "\n",
       "    .dataframe tbody tr th {\n",
       "        vertical-align: top;\n",
       "    }\n",
       "\n",
       "    .dataframe thead th {\n",
       "        text-align: right;\n",
       "    }\n",
       "</style>\n",
       "<table border=\"1\" class=\"dataframe\">\n",
       "  <thead>\n",
       "    <tr style=\"text-align: right;\">\n",
       "      <th></th>\n",
       "      <th>Age</th>\n",
       "      <th>Sex</th>\n",
       "      <th>BP</th>\n",
       "      <th>Cholesterol</th>\n",
       "      <th>Na_to_K</th>\n",
       "      <th>Drug</th>\n",
       "    </tr>\n",
       "  </thead>\n",
       "  <tbody>\n",
       "    <tr>\n",
       "      <th>195</th>\n",
       "      <td>56</td>\n",
       "      <td>F</td>\n",
       "      <td>LOW</td>\n",
       "      <td>HIGH</td>\n",
       "      <td>11.567</td>\n",
       "      <td>drugC</td>\n",
       "    </tr>\n",
       "    <tr>\n",
       "      <th>196</th>\n",
       "      <td>16</td>\n",
       "      <td>M</td>\n",
       "      <td>LOW</td>\n",
       "      <td>HIGH</td>\n",
       "      <td>12.006</td>\n",
       "      <td>drugC</td>\n",
       "    </tr>\n",
       "    <tr>\n",
       "      <th>197</th>\n",
       "      <td>52</td>\n",
       "      <td>M</td>\n",
       "      <td>NORMAL</td>\n",
       "      <td>HIGH</td>\n",
       "      <td>9.894</td>\n",
       "      <td>drugX</td>\n",
       "    </tr>\n",
       "    <tr>\n",
       "      <th>198</th>\n",
       "      <td>23</td>\n",
       "      <td>M</td>\n",
       "      <td>NORMAL</td>\n",
       "      <td>NORMAL</td>\n",
       "      <td>14.020</td>\n",
       "      <td>drugX</td>\n",
       "    </tr>\n",
       "    <tr>\n",
       "      <th>199</th>\n",
       "      <td>40</td>\n",
       "      <td>F</td>\n",
       "      <td>LOW</td>\n",
       "      <td>NORMAL</td>\n",
       "      <td>11.349</td>\n",
       "      <td>drugX</td>\n",
       "    </tr>\n",
       "  </tbody>\n",
       "</table>\n",
       "</div>"
      ],
      "text/plain": [
       "     Age Sex      BP Cholesterol  Na_to_K   Drug\n",
       "195   56   F     LOW        HIGH   11.567  drugC\n",
       "196   16   M     LOW        HIGH   12.006  drugC\n",
       "197   52   M  NORMAL        HIGH    9.894  drugX\n",
       "198   23   M  NORMAL      NORMAL   14.020  drugX\n",
       "199   40   F     LOW      NORMAL   11.349  drugX"
      ]
     },
     "execution_count": 4,
     "metadata": {},
     "output_type": "execute_result"
    }
   ],
   "source": [
    "df.tail()"
   ]
  },
  {
   "cell_type": "code",
   "execution_count": 5,
   "id": "8a1fef29",
   "metadata": {},
   "outputs": [
    {
     "data": {
      "text/html": [
       "<div>\n",
       "<style scoped>\n",
       "    .dataframe tbody tr th:only-of-type {\n",
       "        vertical-align: middle;\n",
       "    }\n",
       "\n",
       "    .dataframe tbody tr th {\n",
       "        vertical-align: top;\n",
       "    }\n",
       "\n",
       "    .dataframe thead th {\n",
       "        text-align: right;\n",
       "    }\n",
       "</style>\n",
       "<table border=\"1\" class=\"dataframe\">\n",
       "  <thead>\n",
       "    <tr style=\"text-align: right;\">\n",
       "      <th></th>\n",
       "      <th>Age</th>\n",
       "      <th>Sex</th>\n",
       "      <th>BP</th>\n",
       "      <th>Cholesterol</th>\n",
       "      <th>Na_to_K</th>\n",
       "      <th>Drug</th>\n",
       "    </tr>\n",
       "  </thead>\n",
       "  <tbody>\n",
       "    <tr>\n",
       "      <th>count</th>\n",
       "      <td>200.000000</td>\n",
       "      <td>200</td>\n",
       "      <td>200</td>\n",
       "      <td>200</td>\n",
       "      <td>200.000000</td>\n",
       "      <td>200</td>\n",
       "    </tr>\n",
       "    <tr>\n",
       "      <th>unique</th>\n",
       "      <td>NaN</td>\n",
       "      <td>2</td>\n",
       "      <td>3</td>\n",
       "      <td>2</td>\n",
       "      <td>NaN</td>\n",
       "      <td>5</td>\n",
       "    </tr>\n",
       "    <tr>\n",
       "      <th>top</th>\n",
       "      <td>NaN</td>\n",
       "      <td>M</td>\n",
       "      <td>HIGH</td>\n",
       "      <td>HIGH</td>\n",
       "      <td>NaN</td>\n",
       "      <td>DrugY</td>\n",
       "    </tr>\n",
       "    <tr>\n",
       "      <th>freq</th>\n",
       "      <td>NaN</td>\n",
       "      <td>104</td>\n",
       "      <td>77</td>\n",
       "      <td>103</td>\n",
       "      <td>NaN</td>\n",
       "      <td>91</td>\n",
       "    </tr>\n",
       "    <tr>\n",
       "      <th>mean</th>\n",
       "      <td>44.315000</td>\n",
       "      <td>NaN</td>\n",
       "      <td>NaN</td>\n",
       "      <td>NaN</td>\n",
       "      <td>16.084485</td>\n",
       "      <td>NaN</td>\n",
       "    </tr>\n",
       "    <tr>\n",
       "      <th>std</th>\n",
       "      <td>16.544315</td>\n",
       "      <td>NaN</td>\n",
       "      <td>NaN</td>\n",
       "      <td>NaN</td>\n",
       "      <td>7.223956</td>\n",
       "      <td>NaN</td>\n",
       "    </tr>\n",
       "    <tr>\n",
       "      <th>min</th>\n",
       "      <td>15.000000</td>\n",
       "      <td>NaN</td>\n",
       "      <td>NaN</td>\n",
       "      <td>NaN</td>\n",
       "      <td>6.269000</td>\n",
       "      <td>NaN</td>\n",
       "    </tr>\n",
       "    <tr>\n",
       "      <th>25%</th>\n",
       "      <td>31.000000</td>\n",
       "      <td>NaN</td>\n",
       "      <td>NaN</td>\n",
       "      <td>NaN</td>\n",
       "      <td>10.445500</td>\n",
       "      <td>NaN</td>\n",
       "    </tr>\n",
       "    <tr>\n",
       "      <th>50%</th>\n",
       "      <td>45.000000</td>\n",
       "      <td>NaN</td>\n",
       "      <td>NaN</td>\n",
       "      <td>NaN</td>\n",
       "      <td>13.936500</td>\n",
       "      <td>NaN</td>\n",
       "    </tr>\n",
       "    <tr>\n",
       "      <th>75%</th>\n",
       "      <td>58.000000</td>\n",
       "      <td>NaN</td>\n",
       "      <td>NaN</td>\n",
       "      <td>NaN</td>\n",
       "      <td>19.380000</td>\n",
       "      <td>NaN</td>\n",
       "    </tr>\n",
       "    <tr>\n",
       "      <th>max</th>\n",
       "      <td>74.000000</td>\n",
       "      <td>NaN</td>\n",
       "      <td>NaN</td>\n",
       "      <td>NaN</td>\n",
       "      <td>38.247000</td>\n",
       "      <td>NaN</td>\n",
       "    </tr>\n",
       "  </tbody>\n",
       "</table>\n",
       "</div>"
      ],
      "text/plain": [
       "               Age  Sex    BP Cholesterol     Na_to_K   Drug\n",
       "count   200.000000  200   200         200  200.000000    200\n",
       "unique         NaN    2     3           2         NaN      5\n",
       "top            NaN    M  HIGH        HIGH         NaN  DrugY\n",
       "freq           NaN  104    77         103         NaN     91\n",
       "mean     44.315000  NaN   NaN         NaN   16.084485    NaN\n",
       "std      16.544315  NaN   NaN         NaN    7.223956    NaN\n",
       "min      15.000000  NaN   NaN         NaN    6.269000    NaN\n",
       "25%      31.000000  NaN   NaN         NaN   10.445500    NaN\n",
       "50%      45.000000  NaN   NaN         NaN   13.936500    NaN\n",
       "75%      58.000000  NaN   NaN         NaN   19.380000    NaN\n",
       "max      74.000000  NaN   NaN         NaN   38.247000    NaN"
      ]
     },
     "execution_count": 5,
     "metadata": {},
     "output_type": "execute_result"
    }
   ],
   "source": [
    "df.describe(include='all')"
   ]
  },
  {
   "cell_type": "code",
   "execution_count": 6,
   "id": "b4524710",
   "metadata": {},
   "outputs": [
    {
     "data": {
      "text/plain": [
       "Age            0\n",
       "Sex            0\n",
       "BP             0\n",
       "Cholesterol    0\n",
       "Na_to_K        0\n",
       "Drug           0\n",
       "dtype: int64"
      ]
     },
     "execution_count": 6,
     "metadata": {},
     "output_type": "execute_result"
    }
   ],
   "source": [
    "df.isnull().sum()"
   ]
  },
  {
   "cell_type": "code",
   "execution_count": 7,
   "id": "c621b967",
   "metadata": {},
   "outputs": [
    {
     "name": "stdout",
     "output_type": "stream",
     "text": [
      "<class 'pandas.core.frame.DataFrame'>\n",
      "RangeIndex: 200 entries, 0 to 199\n",
      "Data columns (total 6 columns):\n",
      " #   Column       Non-Null Count  Dtype  \n",
      "---  ------       --------------  -----  \n",
      " 0   Age          200 non-null    int64  \n",
      " 1   Sex          200 non-null    object \n",
      " 2   BP           200 non-null    object \n",
      " 3   Cholesterol  200 non-null    object \n",
      " 4   Na_to_K      200 non-null    float64\n",
      " 5   Drug         200 non-null    object \n",
      "dtypes: float64(1), int64(1), object(4)\n",
      "memory usage: 9.5+ KB\n"
     ]
    }
   ],
   "source": [
    "df.info()"
   ]
  },
  {
   "cell_type": "code",
   "execution_count": 8,
   "id": "aa5fa86b",
   "metadata": {},
   "outputs": [
    {
     "data": {
      "image/png": "[encoded data removed]",
      "text/plain": [
       "<Figure size 1296x288 with 4 Axes>"
      ]
     },
     "metadata": {
      "needs_background": "light"
     },
     "output_type": "display_data"
    }
   ],
   "source": [
    "fig, ax = plt.subplots(1,4,figsize=(18,4))\n",
    "\n",
    "cat_cols = ['Sex', 'BP', 'Cholesterol', 'Drug']\n",
    "\n",
    "for i, col in enumerate(cat_cols):\n",
    "    sns.countplot(data=df, x=df[col], ax=ax[i])\n",
    "    ax[i].set_title(col)\n"
   ]
  },
  {
   "cell_type": "code",
   "execution_count": 9,
   "id": "257d47fd",
   "metadata": {},
   "outputs": [],
   "source": [
    "from sklearn.model_selection import train_test_split"
   ]
  },
  {
   "cell_type": "code",
   "execution_count": 10,
   "id": "7415e116",
   "metadata": {},
   "outputs": [
    {
     "data": {
      "text/html": [
       "<div>\n",
       "<style scoped>\n",
       "    .dataframe tbody tr th:only-of-type {\n",
       "        vertical-align: middle;\n",
       "    }\n",
       "\n",
       "    .dataframe tbody tr th {\n",
       "        vertical-align: top;\n",
       "    }\n",
       "\n",
       "    .dataframe thead th {\n",
       "        text-align: right;\n",
       "    }\n",
       "</style>\n",
       "<table border=\"1\" class=\"dataframe\">\n",
       "  <thead>\n",
       "    <tr style=\"text-align: right;\">\n",
       "      <th></th>\n",
       "      <th>Age</th>\n",
       "      <th>Sex</th>\n",
       "      <th>BP</th>\n",
       "      <th>Cholesterol</th>\n",
       "      <th>Na_to_K</th>\n",
       "    </tr>\n",
       "  </thead>\n",
       "  <tbody>\n",
       "    <tr>\n",
       "      <th>0</th>\n",
       "      <td>23</td>\n",
       "      <td>F</td>\n",
       "      <td>HIGH</td>\n",
       "      <td>HIGH</td>\n",
       "      <td>25.355</td>\n",
       "    </tr>\n",
       "    <tr>\n",
       "      <th>1</th>\n",
       "      <td>47</td>\n",
       "      <td>M</td>\n",
       "      <td>LOW</td>\n",
       "      <td>HIGH</td>\n",
       "      <td>13.093</td>\n",
       "    </tr>\n",
       "    <tr>\n",
       "      <th>2</th>\n",
       "      <td>47</td>\n",
       "      <td>M</td>\n",
       "      <td>LOW</td>\n",
       "      <td>HIGH</td>\n",
       "      <td>10.114</td>\n",
       "    </tr>\n",
       "    <tr>\n",
       "      <th>3</th>\n",
       "      <td>28</td>\n",
       "      <td>F</td>\n",
       "      <td>NORMAL</td>\n",
       "      <td>HIGH</td>\n",
       "      <td>7.798</td>\n",
       "    </tr>\n",
       "    <tr>\n",
       "      <th>4</th>\n",
       "      <td>61</td>\n",
       "      <td>F</td>\n",
       "      <td>LOW</td>\n",
       "      <td>HIGH</td>\n",
       "      <td>18.043</td>\n",
       "    </tr>\n",
       "  </tbody>\n",
       "</table>\n",
       "</div>"
      ],
      "text/plain": [
       "   Age Sex      BP Cholesterol  Na_to_K\n",
       "0   23   F    HIGH        HIGH   25.355\n",
       "1   47   M     LOW        HIGH   13.093\n",
       "2   47   M     LOW        HIGH   10.114\n",
       "3   28   F  NORMAL        HIGH    7.798\n",
       "4   61   F     LOW        HIGH   18.043"
      ]
     },
     "execution_count": 10,
     "metadata": {},
     "output_type": "execute_result"
    }
   ],
   "source": [
    "x=df.iloc[:,0:5]\n",
    "x.head()"
   ]
  },
  {
   "cell_type": "code",
   "execution_count": 11,
   "id": "e8697601",
   "metadata": {},
   "outputs": [
    {
     "data": {
      "text/plain": [
       "0    DrugY\n",
       "1    drugC\n",
       "2    drugC\n",
       "3    drugX\n",
       "4    DrugY\n",
       "Name: Drug, dtype: object"
      ]
     },
     "execution_count": 11,
     "metadata": {},
     "output_type": "execute_result"
    }
   ],
   "source": [
    "y=df['Drug']\n",
    "y.head()"
   ]
  },
  {
   "cell_type": "code",
   "execution_count": 12,
   "id": "cecce387",
   "metadata": {},
   "outputs": [],
   "source": [
    "xtrain,xtest,ytrain,ytest = train_test_split(x,y,test_size=0.2,random_state=12)"
   ]
  },
  {
   "cell_type": "code",
   "execution_count": 13,
   "id": "0c6a2b60",
   "metadata": {},
   "outputs": [
    {
     "data": {
      "text/plain": [
       "((200, 5), (200,))"
      ]
     },
     "execution_count": 13,
     "metadata": {},
     "output_type": "execute_result"
    }
   ],
   "source": [
    "x.shape, y.shape"
   ]
  },
  {
   "cell_type": "code",
   "execution_count": 14,
   "id": "76b6217f",
   "metadata": {},
   "outputs": [
    {
     "data": {
      "text/plain": [
       "array(['DrugY', 'drugC', 'drugX', 'drugA', 'drugB'], dtype=object)"
      ]
     },
     "execution_count": 14,
     "metadata": {},
     "output_type": "execute_result"
    }
   ],
   "source": [
    "y.unique()"
   ]
  },
  {
   "cell_type": "code",
   "execution_count": 15,
   "id": "e55fe84c",
   "metadata": {},
   "outputs": [
    {
     "data": {
      "text/plain": [
       "((160, 5), (40, 5))"
      ]
     },
     "execution_count": 15,
     "metadata": {},
     "output_type": "execute_result"
    }
   ],
   "source": [
    "xtrain.shape, xtest.shape"
   ]
  },
  {
   "cell_type": "code",
   "execution_count": 16,
   "id": "c48a865b",
   "metadata": {},
   "outputs": [
    {
     "data": {
      "text/plain": [
       "((160,), (40,))"
      ]
     },
     "execution_count": 16,
     "metadata": {},
     "output_type": "execute_result"
    }
   ],
   "source": [
    "ytrain.shape, ytest.shape"
   ]
  },
  {
   "cell_type": "code",
   "execution_count": 17,
   "id": "f96b0a8b",
   "metadata": {},
   "outputs": [],
   "source": [
    "from sklearn.preprocessing import LabelEncoder\n",
    "le = LabelEncoder()\n",
    "ytrain = le.fit_transform(ytrain)\n",
    "ytest=le.transform(ytest)\n",
    "xtest['Sex'] = le.fit_transform(xtest['Sex'])\n",
    "xtest['BP'] = le.fit_transform(xtest['BP'])\n",
    "xtest['Cholesterol'] = le.fit_transform(xtest['Cholesterol'])"
   ]
  },
  {
   "cell_type": "markdown",
   "id": "c0e5994d",
   "metadata": {},
   "source": [
    "### Training Data"
   ]
  },
  {
   "cell_type": "code",
   "execution_count": 18,
   "id": "527159b7",
   "metadata": {},
   "outputs": [
    {
     "data": {
      "text/plain": [
       "77    0\n",
       "47    1\n",
       "Name: Sex, dtype: int32"
      ]
     },
     "execution_count": 18,
     "metadata": {},
     "output_type": "execute_result"
    }
   ],
   "source": [
    "xtrain['Sex'] = le.fit_transform(xtrain['Sex'])\n",
    "xtrain['BP'] = le.fit_transform(xtrain['BP'])\n",
    "xtrain['Cholesterol'] = le.fit_transform(xtrain['Cholesterol'])\n",
    "xtrain['Sex'].head(2)"
   ]
  },
  {
   "cell_type": "code",
   "execution_count": 19,
   "id": "faad2a9c",
   "metadata": {
    "scrolled": true
   },
   "outputs": [
    {
     "data": {
      "text/plain": [
       "77    0\n",
       "47    1\n",
       "94    1\n",
       "14    2\n",
       "41    0\n",
       "Name: BP, dtype: int32"
      ]
     },
     "execution_count": 19,
     "metadata": {},
     "output_type": "execute_result"
    }
   ],
   "source": [
    "xtrain['BP'].head(5)"
   ]
  },
  {
   "cell_type": "code",
   "execution_count": 20,
   "id": "82f7b7ba",
   "metadata": {
    "scrolled": true
   },
   "outputs": [
    {
     "data": {
      "text/plain": [
       "77    1\n",
       "47    0\n",
       "94    0\n",
       "14    0\n",
       "41    1\n",
       "Name: Cholesterol, dtype: int32"
      ]
     },
     "execution_count": 20,
     "metadata": {},
     "output_type": "execute_result"
    }
   ],
   "source": [
    "xtrain['Cholesterol'].head(5)"
   ]
  },
  {
   "cell_type": "code",
   "execution_count": null,
   "id": "233f22aa",
   "metadata": {},
   "outputs": [],
   "source": []
  },
  {
   "cell_type": "markdown",
   "id": "dd92c74c",
   "metadata": {},
   "source": [
    "# Building the Model"
   ]
  },
  {
   "cell_type": "code",
   "execution_count": 21,
   "id": "153d72ea",
   "metadata": {},
   "outputs": [],
   "source": [
    "from tensorflow.keras.models import Sequential\n",
    "from tensorflow.keras.layers import Dense"
   ]
  },
  {
   "cell_type": "code",
   "execution_count": 22,
   "id": "08336118",
   "metadata": {},
   "outputs": [],
   "source": [
    "model = Sequential()\n",
    "# Adding input layer to the model\n",
    "model.add(Dense(5,activation='relu',name=\"layer-1\"))\n",
    "# Adding the 1st hidden layer to the model\n",
    "model.add(Dense(64,activation='relu',name=\"layer-2\"))\n",
    "# Adding the 2nd hidden layer to the model\n",
    "model.add(Dense(32,activation='relu',name=\"layer-3\"))\n",
    "# Adding the 3rd hidden layer to the model\n",
    "model.add(Dense(16,activation='relu',name=\"layer-4\"))\n",
    "#npo is number of possible outcomes\n",
    "npo =  len(set(df[\"Drug\"]))\n",
    "model.add(Dense(5,activation='linear'))\n"
   ]
  },
  {
   "cell_type": "code",
   "execution_count": 23,
   "id": "882d19ad",
   "metadata": {},
   "outputs": [],
   "source": [
    "model.compile(optimizer='adam',loss='mse',metrics=['accuracy'])"
   ]
  },
  {
   "cell_type": "code",
   "execution_count": 24,
   "id": "82b9f9bf",
   "metadata": {},
   "outputs": [
    {
     "name": "stdout",
     "output_type": "stream",
     "text": [
      "Epoch 1/100\n",
      "80/80 [==============================] - 0s 738us/step - loss: 4.9368 - accuracy: 0.1000\n",
      "Epoch 2/100\n",
      "80/80 [==============================] - 0s 779us/step - loss: 3.4091 - accuracy: 0.0750\n",
      "Epoch 3/100\n",
      "80/80 [==============================] - 0s 773us/step - loss: 3.0907 - accuracy: 0.0875\n",
      "Epoch 4/100\n",
      "80/80 [==============================] - 0s 754us/step - loss: 2.8865 - accuracy: 0.1312\n",
      "Epoch 5/100\n",
      "80/80 [==============================] - 0s 763us/step - loss: 2.7850 - accuracy: 0.1250\n",
      "Epoch 6/100\n",
      "80/80 [==============================] - 0s 852us/step - loss: 2.7920 - accuracy: 0.1312\n",
      "Epoch 7/100\n",
      "80/80 [==============================] - 0s 773us/step - loss: 2.8039 - accuracy: 0.1562\n",
      "Epoch 8/100\n",
      "80/80 [==============================] - 0s 763us/step - loss: 2.7662 - accuracy: 0.1562\n",
      "Epoch 9/100\n",
      "80/80 [==============================] - 0s 760us/step - loss: 2.6508 - accuracy: 0.1437\n",
      "Epoch 10/100\n",
      "80/80 [==============================] - 0s 833us/step - loss: 2.5931 - accuracy: 0.1312\n",
      "Epoch 11/100\n",
      "80/80 [==============================] - 0s 772us/step - loss: 2.5105 - accuracy: 0.1375\n",
      "Epoch 12/100\n",
      "80/80 [==============================] - 0s 777us/step - loss: 2.4287 - accuracy: 0.1375\n",
      "Epoch 13/100\n",
      "80/80 [==============================] - 0s 756us/step - loss: 2.4557 - accuracy: 0.1437\n",
      "Epoch 14/100\n",
      "80/80 [==============================] - 0s 728us/step - loss: 2.2441 - accuracy: 0.1000\n",
      "Epoch 15/100\n",
      "80/80 [==============================] - 0s 724us/step - loss: 2.0455 - accuracy: 0.1375\n",
      "Epoch 16/100\n",
      "80/80 [==============================] - 0s 717us/step - loss: 1.7819 - accuracy: 0.2250\n",
      "Epoch 17/100\n",
      "80/80 [==============================] - 0s 721us/step - loss: 1.6321 - accuracy: 0.3313\n",
      "Epoch 18/100\n",
      "80/80 [==============================] - 0s 717us/step - loss: 1.2733 - accuracy: 0.3688\n",
      "Epoch 19/100\n",
      "80/80 [==============================] - 0s 715us/step - loss: 1.6696 - accuracy: 0.2000\n",
      "Epoch 20/100\n",
      "80/80 [==============================] - 0s 696us/step - loss: 1.2772 - accuracy: 0.3375\n",
      "Epoch 21/100\n",
      "80/80 [==============================] - 0s 720us/step - loss: 1.1645 - accuracy: 0.3375\n",
      "Epoch 22/100\n",
      "80/80 [==============================] - 0s 716us/step - loss: 0.9541 - accuracy: 0.3250\n",
      "Epoch 23/100\n",
      "80/80 [==============================] - 0s 726us/step - loss: 0.8506 - accuracy: 0.3187\n",
      "Epoch 24/100\n",
      "80/80 [==============================] - 0s 817us/step - loss: 0.8627 - accuracy: 0.3125\n",
      "Epoch 25/100\n",
      "80/80 [==============================] - 0s 791us/step - loss: 0.8810 - accuracy: 0.2625\n",
      "Epoch 26/100\n",
      "80/80 [==============================] - 0s 743us/step - loss: 0.8248 - accuracy: 0.3125\n",
      "Epoch 27/100\n",
      "80/80 [==============================] - 0s 795us/step - loss: 1.0401 - accuracy: 0.2125\n",
      "Epoch 28/100\n",
      "80/80 [==============================] - 0s 752us/step - loss: 0.9092 - accuracy: 0.2812\n",
      "Epoch 29/100\n",
      "80/80 [==============================] - 0s 784us/step - loss: 0.8105 - accuracy: 0.2000\n",
      "Epoch 30/100\n",
      "80/80 [==============================] - 0s 735us/step - loss: 0.8241 - accuracy: 0.2125\n",
      "Epoch 31/100\n",
      "80/80 [==============================] - 0s 717us/step - loss: 0.8592 - accuracy: 0.2000\n",
      "Epoch 32/100\n",
      "80/80 [==============================] - 0s 739us/step - loss: 0.7212 - accuracy: 0.2500\n",
      "Epoch 33/100\n",
      "80/80 [==============================] - 0s 740us/step - loss: 0.6862 - accuracy: 0.2750\n",
      "Epoch 34/100\n",
      "80/80 [==============================] - 0s 798us/step - loss: 0.8491 - accuracy: 0.2250\n",
      "Epoch 35/100\n",
      "80/80 [==============================] - 0s 812us/step - loss: 0.7697 - accuracy: 0.2750\n",
      "Epoch 36/100\n",
      "80/80 [==============================] - 0s 807us/step - loss: 0.6753 - accuracy: 0.3063\n",
      "Epoch 37/100\n",
      "80/80 [==============================] - 0s 809us/step - loss: 0.6840 - accuracy: 0.2313\n",
      "Epoch 38/100\n",
      "80/80 [==============================] - 0s 775us/step - loss: 0.6729 - accuracy: 0.2562\n",
      "Epoch 39/100\n",
      "80/80 [==============================] - 0s 799us/step - loss: 0.7622 - accuracy: 0.1750\n",
      "Epoch 40/100\n",
      "80/80 [==============================] - 0s 783us/step - loss: 0.7200 - accuracy: 0.2375\n",
      "Epoch 41/100\n",
      "80/80 [==============================] - 0s 783us/step - loss: 0.7252 - accuracy: 0.2062\n",
      "Epoch 42/100\n",
      "80/80 [==============================] - 0s 799us/step - loss: 0.6552 - accuracy: 0.3000\n",
      "Epoch 43/100\n",
      "80/80 [==============================] - 0s 762us/step - loss: 0.6523 - accuracy: 0.2313\n",
      "Epoch 44/100\n",
      "80/80 [==============================] - 0s 790us/step - loss: 0.7471 - accuracy: 0.2000\n",
      "Epoch 45/100\n",
      "80/80 [==============================] - 0s 787us/step - loss: 0.6656 - accuracy: 0.2188\n",
      "Epoch 46/100\n",
      "80/80 [==============================] - 0s 810us/step - loss: 0.6665 - accuracy: 0.2188\n",
      "Epoch 47/100\n",
      "80/80 [==============================] - 0s 808us/step - loss: 0.6885 - accuracy: 0.2812\n",
      "Epoch 48/100\n",
      "80/80 [==============================] - 0s 806us/step - loss: 0.6979 - accuracy: 0.2125\n",
      "Epoch 49/100\n",
      "80/80 [==============================] - 0s 798us/step - loss: 0.6441 - accuracy: 0.2812\n",
      "Epoch 50/100\n",
      "80/80 [==============================] - 0s 782us/step - loss: 0.6121 - accuracy: 0.2438\n",
      "Epoch 51/100\n",
      "80/80 [==============================] - 0s 774us/step - loss: 0.6362 - accuracy: 0.2500\n",
      "Epoch 52/100\n",
      "80/80 [==============================] - 0s 792us/step - loss: 0.6086 - accuracy: 0.2625\n",
      "Epoch 53/100\n",
      "80/80 [==============================] - 0s 794us/step - loss: 0.5340 - accuracy: 0.2875\n",
      "Epoch 54/100\n",
      "80/80 [==============================] - 0s 753us/step - loss: 0.6020 - accuracy: 0.2937\n",
      "Epoch 55/100\n",
      "80/80 [==============================] - 0s 772us/step - loss: 0.6815 - accuracy: 0.2313\n",
      "Epoch 56/100\n",
      "80/80 [==============================] - 0s 783us/step - loss: 0.6167 - accuracy: 0.2937\n",
      "Epoch 57/100\n",
      "80/80 [==============================] - 0s 794us/step - loss: 0.5641 - accuracy: 0.2812\n",
      "Epoch 58/100\n",
      "80/80 [==============================] - 0s 806us/step - loss: 0.6195 - accuracy: 0.2688\n",
      "Epoch 59/100\n",
      "80/80 [==============================] - 0s 734us/step - loss: 0.5533 - accuracy: 0.2313\n",
      "Epoch 60/100\n",
      "80/80 [==============================] - 0s 697us/step - loss: 0.6101 - accuracy: 0.1562\n",
      "Epoch 61/100\n",
      "80/80 [==============================] - 0s 694us/step - loss: 0.5711 - accuracy: 0.2250\n",
      "Epoch 62/100\n",
      "80/80 [==============================] - 0s 689us/step - loss: 0.6463 - accuracy: 0.2000\n",
      "Epoch 63/100\n",
      "80/80 [==============================] - 0s 708us/step - loss: 0.6109 - accuracy: 0.1875\n",
      "Epoch 64/100\n",
      "80/80 [==============================] - 0s 718us/step - loss: 0.5293 - accuracy: 0.2062\n",
      "Epoch 65/100\n",
      "80/80 [==============================] - 0s 775us/step - loss: 0.5648 - accuracy: 0.1937\n",
      "Epoch 66/100\n",
      "80/80 [==============================] - 0s 737us/step - loss: 0.4840 - accuracy: 0.2062\n",
      "Epoch 67/100\n",
      "80/80 [==============================] - 0s 712us/step - loss: 0.6356 - accuracy: 0.2625\n",
      "Epoch 68/100\n",
      "80/80 [==============================] - 0s 709us/step - loss: 0.5454 - accuracy: 0.2000\n",
      "Epoch 69/100\n",
      "80/80 [==============================] - 0s 714us/step - loss: 0.5435 - accuracy: 0.3125\n",
      "Epoch 70/100\n",
      "80/80 [==============================] - 0s 796us/step - loss: 0.6432 - accuracy: 0.2562\n",
      "Epoch 71/100\n",
      "80/80 [==============================] - 0s 834us/step - loss: 0.5224 - accuracy: 0.1937\n",
      "Epoch 72/100\n",
      "80/80 [==============================] - 0s 814us/step - loss: 0.5598 - accuracy: 0.1688\n",
      "Epoch 73/100\n",
      "80/80 [==============================] - 0s 832us/step - loss: 0.6163 - accuracy: 0.1813\n",
      "Epoch 74/100\n",
      "80/80 [==============================] - 0s 751us/step - loss: 0.4753 - accuracy: 0.1562\n",
      "Epoch 75/100\n",
      "80/80 [==============================] - 0s 794us/step - loss: 0.5570 - accuracy: 0.1750\n",
      "Epoch 76/100\n",
      "80/80 [==============================] - 0s 687us/step - loss: 0.5309 - accuracy: 0.2375\n",
      "Epoch 77/100\n",
      "80/80 [==============================] - 0s 698us/step - loss: 0.5623 - accuracy: 0.2375\n",
      "Epoch 78/100\n",
      "80/80 [==============================] - 0s 729us/step - loss: 0.4831 - accuracy: 0.2750\n",
      "Epoch 79/100\n",
      "80/80 [==============================] - 0s 730us/step - loss: 0.6701 - accuracy: 0.2812\n",
      "Epoch 80/100\n",
      "80/80 [==============================] - 0s 825us/step - loss: 0.6036 - accuracy: 0.3000\n",
      "Epoch 81/100\n"
     ]
    },
    {
     "name": "stdout",
     "output_type": "stream",
     "text": [
      "80/80 [==============================] - 0s 815us/step - loss: 0.5073 - accuracy: 0.2750\n",
      "Epoch 82/100\n",
      "80/80 [==============================] - 0s 786us/step - loss: 0.5084 - accuracy: 0.2188\n",
      "Epoch 83/100\n",
      "80/80 [==============================] - 0s 721us/step - loss: 0.6001 - accuracy: 0.2438\n",
      "Epoch 84/100\n",
      "80/80 [==============================] - 0s 682us/step - loss: 0.5470 - accuracy: 0.2062\n",
      "Epoch 85/100\n",
      "80/80 [==============================] - 0s 683us/step - loss: 0.5851 - accuracy: 0.1625\n",
      "Epoch 86/100\n",
      "80/80 [==============================] - 0s 702us/step - loss: 0.5674 - accuracy: 0.3125\n",
      "Epoch 87/100\n",
      "80/80 [==============================] - 0s 765us/step - loss: 0.7036 - accuracy: 0.2250\n",
      "Epoch 88/100\n",
      "80/80 [==============================] - 0s 842us/step - loss: 0.5567 - accuracy: 0.2000\n",
      "Epoch 89/100\n",
      "80/80 [==============================] - 0s 787us/step - loss: 0.5675 - accuracy: 0.2125\n",
      "Epoch 90/100\n",
      "80/80 [==============================] - 0s 894us/step - loss: 0.4917 - accuracy: 0.1437\n",
      "Epoch 91/100\n",
      "80/80 [==============================] - 0s 763us/step - loss: 0.6372 - accuracy: 0.2875\n",
      "Epoch 92/100\n",
      "80/80 [==============================] - 0s 773us/step - loss: 0.6123 - accuracy: 0.3000\n",
      "Epoch 93/100\n",
      "80/80 [==============================] - 0s 809us/step - loss: 0.5820 - accuracy: 0.3125\n",
      "Epoch 94/100\n",
      "80/80 [==============================] - 0s 769us/step - loss: 0.4289 - accuracy: 0.1937\n",
      "Epoch 95/100\n",
      "80/80 [==============================] - 0s 798us/step - loss: 0.4996 - accuracy: 0.2062\n",
      "Epoch 96/100\n",
      "80/80 [==============================] - 0s 787us/step - loss: 0.5360 - accuracy: 0.2188\n",
      "Epoch 97/100\n",
      "80/80 [==============================] - 0s 830us/step - loss: 0.5286 - accuracy: 0.2062\n",
      "Epoch 98/100\n",
      "80/80 [==============================] - 0s 766us/step - loss: 0.5348 - accuracy: 0.2937\n",
      "Epoch 99/100\n",
      "80/80 [==============================] - 0s 721us/step - loss: 0.5582 - accuracy: 0.2250\n",
      "Epoch 100/100\n",
      "80/80 [==============================] - 0s 733us/step - loss: 0.5712 - accuracy: 0.2375\n"
     ]
    },
    {
     "data": {
      "text/plain": [
       "<keras.callbacks.History at 0x23cde2b1a20>"
      ]
     },
     "execution_count": 24,
     "metadata": {},
     "output_type": "execute_result"
    }
   ],
   "source": [
    "model.fit(xtrain,ytrain,epochs=100,batch_size=2)"
   ]
  },
  {
   "cell_type": "code",
   "execution_count": 25,
   "id": "5507d86a",
   "metadata": {},
   "outputs": [
    {
     "name": "stdout",
     "output_type": "stream",
     "text": [
      "Model: \"sequential\"\n",
      "_________________________________________________________________\n",
      " Layer (type)                Output Shape              Param #   \n",
      "=================================================================\n",
      " layer-1 (Dense)             (2, 5)                    30        \n",
      "                                                                 \n",
      " layer-2 (Dense)             (2, 64)                   384       \n",
      "                                                                 \n",
      " layer-3 (Dense)             (2, 32)                   2080      \n",
      "                                                                 \n",
      " layer-4 (Dense)             (2, 16)                   528       \n",
      "                                                                 \n",
      " dense (Dense)               (2, 5)                    85        \n",
      "                                                                 \n",
      "=================================================================\n",
      "Total params: 3,107\n",
      "Trainable params: 3,107\n",
      "Non-trainable params: 0\n",
      "_________________________________________________________________\n"
     ]
    }
   ],
   "source": [
    "model.summary()"
   ]
  },
  {
   "cell_type": "markdown",
   "id": "b758ef3c",
   "metadata": {},
   "source": [
    "### Random Data Generation and Testing"
   ]
  },
  {
   "cell_type": "code",
   "execution_count": 29,
   "id": "fd3a7f74",
   "metadata": {},
   "outputs": [
    {
     "data": {
      "text/plain": [
       "array([[0.69948656, 0.08919971, 0.92078407, 0.64117201, 0.68054784]])"
      ]
     },
     "execution_count": 29,
     "metadata": {},
     "output_type": "execute_result"
    }
   ],
   "source": [
    "data_random = np.random.rand(1,5)\n",
    "data_random"
   ]
  },
  {
   "cell_type": "code",
   "execution_count": 30,
   "id": "7970e76e",
   "metadata": {},
   "outputs": [
    {
     "name": "stdout",
     "output_type": "stream",
     "text": [
      "1/1 [==============================] - 0s 48ms/step\n"
     ]
    },
    {
     "data": {
      "text/plain": [
       "array([[2.9046881, 2.8611581, 2.8768566, 2.9083588, 2.814039 ]],\n",
       "      dtype=float32)"
      ]
     },
     "execution_count": 30,
     "metadata": {},
     "output_type": "execute_result"
    }
   ],
   "source": [
    "pred = model.predict(data_random)\n",
    "pred"
   ]
  },
  {
   "cell_type": "code",
   "execution_count": 32,
   "id": "12ad1e35",
   "metadata": {},
   "outputs": [
    {
     "name": "stdout",
     "output_type": "stream",
     "text": [
      "3\n"
     ]
    }
   ],
   "source": [
    "prediction = np.argmax(pred)\n",
    "print(prediction)"
   ]
  },
  {
   "cell_type": "code",
   "execution_count": null,
   "id": "c1a7b9b3",
   "metadata": {},
   "outputs": [],
   "source": []
  }
 ],
 "metadata": {
  "kernelspec": {
   "display_name": "Python 3 (ipykernel)",
   "language": "python",
   "name": "python3"
  },
  "language_info": {
   "codemirror_mode": {
    "name": "ipython",
    "version": 3
   },
   "file_extension": ".py",
   "mimetype": "text/x-python",
   "name": "python",
   "nbconvert_exporter": "python",
   "pygments_lexer": "ipython3",
   "version": "3.10.4"
  }
 },
 "nbformat": 4,
 "nbformat_minor": 5
}
